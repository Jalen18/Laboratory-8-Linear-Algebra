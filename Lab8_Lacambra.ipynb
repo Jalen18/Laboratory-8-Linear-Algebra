{
  "nbformat": 4,
  "nbformat_minor": 0,
  "metadata": {
    "colab": {
      "name": "Lab8_Lacambra.ipynb",
      "private_outputs": true,
      "provenance": [],
      "authorship_tag": "ABX9TyNXG+Jl9A+MnJ2QJSLc73FH",
      "include_colab_link": true
    },
    "kernelspec": {
      "name": "python3",
      "display_name": "Python 3"
    },
    "language_info": {
      "name": "python"
    }
  },
  "cells": [
    {
      "cell_type": "markdown",
      "metadata": {
        "id": "view-in-github",
        "colab_type": "text"
      },
      "source": [
        "<a href=\"https://colab.research.google.com/github/Jalen18/Laboratory-8-Linear-Algebra/blob/main/Lab8_Lacambra.ipynb\" target=\"_parent\"><img src=\"https://colab.research.google.com/assets/colab-badge.svg\" alt=\"Open In Colab\"/></a>"
      ]
    },
    {
      "cell_type": "markdown",
      "metadata": {
        "id": "Bje6-dFLKCjo"
      },
      "source": [
        "### Exercise 1"
      ]
    },
    {
      "cell_type": "markdown",
      "metadata": {
        "id": "vguqolQzPUu4"
      },
      "source": [
        "## A pet store has inventory cat food for 90 Kg, Humster food for 20 Kg, and Dog food for 100 Kg, They earn 10,500 pesos in month 1. In month 2, It increased inventory counts for cat food 100 Kg, Humster food for 40 Kg, and Dog food for 180 Kg and they earn 17,000 pesos. in month 3, for cat food 110 Kg, Humster food for 80 Kg, and Dog food for 150 Kg and they earn 27,500. solve every price of animal foods.\n",
        "\n",
        "---\n",
        "\n"
      ]
    },
    {
      "cell_type": "markdown",
      "metadata": {
        "id": "gxqBgNZf3vDO"
      },
      "source": [
        "$$\\begin{bmatrix}90&20&100\\\\100&40&180\\\\110&80&150\\end{bmatrix}= \\begin{bmatrix}10,500\\\\17,000\\\\27,500\\end{bmatrix}$$"
      ]
    },
    {
      "cell_type": "code",
      "metadata": {
        "id": "d8qpbyfbJhZV"
      },
      "source": [
        "import numpy as np\n",
        "import matplotlib.pyplot as plt\n",
        "%matplotlib inline"
      ],
      "execution_count": null,
      "outputs": []
    },
    {
      "cell_type": "code",
      "metadata": {
        "id": "L5qdHkfvKHWp"
      },
      "source": [
        "Kg = np.array ([\n",
        "            [90, 20, 100], \n",
        "            [100, 40, 180], \n",
        "            [110, 80, 150]\n",
        "])\n",
        "Earnings = np.array ([\n",
        "            [10500,], \n",
        "            [17000,], \n",
        "            [27500,]\n",
        "])\n",
        "\n",
        "prices = np.linalg.inv(Kg) @ Earnings\n",
        "print('Cat Food: Php {:.2f}'.format(float(prices[0])))\n",
        "print('Humster Food: Php {:.2f}'.format(float(prices[1])))\n",
        "print('Dog Food: Php {:.2f}'.format(float(prices[2])))\n",
        "print ('\\n')\n",
        "\n",
        "dot_prices = np.linalg.solve(Kg, Earnings)\n",
        "print('Cat Food: Php {:.2f}'.format(float(dot_prices[0])))\n",
        "print('Humster Food: Php {:.2f}'.format(float(dot_prices[1])))\n",
        "print('Dog Food: Php {:.2f}'.format(float(dot_prices[2])))"
      ],
      "execution_count": null,
      "outputs": []
    },
    {
      "cell_type": "code",
      "metadata": {
        "id": "nMXTfbFWrrIZ"
      },
      "source": [
        ""
      ],
      "execution_count": null,
      "outputs": []
    }
  ]
}